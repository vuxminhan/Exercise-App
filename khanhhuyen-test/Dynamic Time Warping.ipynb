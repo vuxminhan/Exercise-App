{
 "cells": [
  {
   "cell_type": "code",
   "execution_count": 43,
   "id": "ffca4859",
   "metadata": {},
   "outputs": [],
   "source": [
    "from matplotlib.patches import ConnectionPatch\n",
    "import matplotlib.pyplot as plt\n",
    "import numpy as np\n",
    "#import scipy.spatial.distance as dist\n",
    "import mediapipe as mp\n",
    "import cv2\n",
    "mp_drawing = mp.solutions.drawing_utils\n",
    "mp_pose = mp.solutions.pose"
   ]
  },
  {
   "cell_type": "code",
   "execution_count": 44,
   "id": "d20766cf",
   "metadata": {},
   "outputs": [],
   "source": [
    "def dtp(dist_mat):\n",
    "    N, M = dist_mat.shape\n",
    "    cost_mat = np.zeros((N + 1, M + 1))\n",
    "    for i in range(1,N+1):\n",
    "        cost_mat[i, 0]  = np.inf\n",
    "    for j in range(1, M+1):\n",
    "        cost_mat[0, j] = np.inf\n",
    "    traceback_mat = np.zeros((N,M))\n",
    "    for i in range(N):\n",
    "        for j in range(M):\n",
    "            min_list = [cost_mat[i, j], # match = 0\n",
    "                        cost_mat[i, j+1],   #insert = 1\n",
    "                        cost_mat[i+1, j]]   # deletion = 2\n",
    "            index_min = np.argmin(min_list)\n",
    "            cost_mat[i+1,j+1] = dist_mat[i, j] + min_list[index_min]\n",
    "            traceback_mat[i,j] = index_min \n",
    "    i = N-1\n",
    "    j = M -1\n",
    "    path = [(i,j)]\n",
    "    while i > 0 or j > 0:\n",
    "        tb_type = traceback_mat[i,j]\n",
    "        if tb_type == 0: # đi chéo\n",
    "            i = i-1\n",
    "            j = j-1\n",
    "        elif tb_type == 1: # đi xuống\n",
    "            i = i - 1\n",
    "        elif tb_type == 2: # đi ngang\n",
    "            j = j - 1\n",
    "        path.append((i,j))\n",
    "    cost_mat = cost_mat[1:, 1:]\n",
    "    return path[::-1], cost_mat,traceback_mat\n"
   ]
  },
  {
   "cell_type": "code",
   "execution_count": 45,
   "id": "a3868b91",
   "metadata": {},
   "outputs": [],
   "source": [
    "def distance_matrix(mat1, mat2):\n",
    "    N = mat1.shape[0]\n",
    "    M = mat2.shape[0]\n",
    "    dist_mat = np.zeros((N,M))\n",
    "    for i in range(N):\n",
    "        for j in range(M):\n",
    "            dist_mat[i, j] = np.linalg.norm(mat1[i, :] - mat2[j,:] )\n",
    "    return dist_mat\n",
    "    "
   ]
  },
  {
   "cell_type": "code",
   "execution_count": 46,
   "id": "10b168d5",
   "metadata": {},
   "outputs": [],
   "source": [
    "def calculate_angle(a,b,c):\n",
    "    a, b, c = np.array(a), np.array(b),  np.array(c)\n",
    "\n",
    "    radians = np.arctan2(c[1]- b[1], c[0]-b[0]) - np.arctan2(a[1] - b[1], a[0] - b[0])\n",
    "    angle = np.abs(radians * 180/np.pi)\n",
    "    if angle > 180:\n",
    "        angle = 360 - 180\n",
    "    return angle"
   ]
  },
  {
   "cell_type": "code",
   "execution_count": 47,
   "id": "ab8756c7",
   "metadata": {},
   "outputs": [],
   "source": [
    "def extract_vid(vid_path, num):\n",
    "    cap = cv2.VideoCapture(vid_path)\n",
    "    N = cap.get(cv2.CAP_PROP_FRAME_COUNT)\n",
    "    matrix = []\n",
    "    count = 0\n",
    "    with mp_pose.Pose(min_detection_confidence = 0.5, min_tracking_confidence = 0.5) as pose:\n",
    "        while(cap.isOpened()):\n",
    "            try:\n",
    "                ret, frame = cap.read()\n",
    "                count += 1\n",
    "            #Change from BGR to RGB\n",
    "                img = cv2.cvtColor(frame, cv2.COLOR_BGR2RGB)\n",
    "        \n",
    "                img.flags.writeable = False\n",
    "\n",
    "                #Make detection\n",
    "                result = pose.process(img)\n",
    "\n",
    "                # Back the original color channels\n",
    "                img.flags.writeable = True\n",
    "                img = cv2.cvtColor(img, cv2.COLOR_RGB2BGR)\n",
    "\n",
    "                #Extract landmarks \n",
    "                try:\n",
    "                    landmarks = result.pose_landmarks.landmark\n",
    "                    #print(landmarks)\n",
    "                except:\n",
    "                    pass\n",
    "                # Landmarks: là 1 list chứa tọa độ 33 điểm trên cơ thể\n",
    "                theta = []\n",
    "                for i in range(33):\n",
    "                    for j in range(i+1, 33):\n",
    "                        for k in range(j+1,33): \n",
    "                            a = [landmarks[i].x, landmarks[i].y]\n",
    "                            b = [landmarks[j].x, landmarks[j].y]\n",
    "                            c = [landmarks[k].x, landmarks[k].y]\n",
    "                            angle = calculate_angle(a, b, c)\n",
    "                            theta.append(angle)\n",
    "                matrix.append(theta)\n",
    "\n",
    "            except:\n",
    "                pass\n",
    "            if count == num:\n",
    "                break\n",
    "        \n",
    "        return np.array(matrix), N\n",
    "\n"
   ]
  },
  {
   "cell_type": "code",
   "execution_count": 48,
   "id": "46ecfe2c",
   "metadata": {},
   "outputs": [
    {
     "data": {
      "text/plain": [
       "(200, 5456)"
      ]
     },
     "execution_count": 48,
     "metadata": {},
     "output_type": "execute_result"
    }
   ],
   "source": [
    "mat1,n = extract_vid(\"TestData/test6/Dumbell_headt.mp4\",200)\n",
    "mat1.shape"
   ]
  },
  {
   "cell_type": "code",
   "execution_count": 49,
   "id": "464c8e4a",
   "metadata": {},
   "outputs": [
    {
     "data": {
      "text/plain": [
       "(300, 5456)"
      ]
     },
     "execution_count": 49,
     "metadata": {},
     "output_type": "execute_result"
    }
   ],
   "source": [
    "mat2, m= extract_vid(\"TestData/test6/Dumbell_headl.mp4\",300)\n",
    "mat2.shape"
   ]
  },
  {
   "cell_type": "code",
   "execution_count": 50,
   "id": "5216bf47",
   "metadata": {},
   "outputs": [
    {
     "data": {
      "text/plain": [
       "array([[4381.17326694, 4450.58071984, 4494.24309371, ..., 6800.98081   ,\n",
       "        6798.2009517 , 6810.99059249],\n",
       "       [4255.52189249, 4342.23431558, 4332.97164333, ..., 7104.65912743,\n",
       "        7096.81157247, 7081.46198786],\n",
       "       [4255.52189249, 4342.23431558, 4332.97164333, ..., 7104.65912743,\n",
       "        7096.81157247, 7081.46198786],\n",
       "       ...,\n",
       "       [6766.67729555, 6808.05281007, 6845.17195386, ..., 4041.82523715,\n",
       "        4028.54095735, 3968.03308547],\n",
       "       [5998.89971033, 6006.28794541, 6040.07201479, ..., 5949.0686847 ,\n",
       "        5937.64464486, 5884.30779095],\n",
       "       [5843.10587283, 5838.50239961, 5879.1985852 , ..., 6247.66538075,\n",
       "        6235.37003709, 6189.16869283]])"
      ]
     },
     "execution_count": 50,
     "metadata": {},
     "output_type": "execute_result"
    }
   ],
   "source": [
    "dist_mat = distance_matrix(mat1, mat2)\n",
    "dist_mat"
   ]
  },
  {
   "cell_type": "code",
   "execution_count": 51,
   "id": "76db6a3b",
   "metadata": {},
   "outputs": [
    {
     "data": {
      "text/plain": [
       "(200, 300)"
      ]
     },
     "execution_count": 51,
     "metadata": {},
     "output_type": "execute_result"
    }
   ],
   "source": [
    "dist_mat.shape"
   ]
  },
  {
   "cell_type": "code",
   "execution_count": 52,
   "id": "1100c6b1",
   "metadata": {},
   "outputs": [
    {
     "data": {
      "text/plain": [
       "4450.580719842527"
      ]
     },
     "execution_count": 52,
     "metadata": {},
     "output_type": "execute_result"
    }
   ],
   "source": [
    "dist_mat[0,1]"
   ]
  },
  {
   "cell_type": "code",
   "execution_count": 53,
   "id": "bcb1fad6",
   "metadata": {},
   "outputs": [],
   "source": [
    "path, cost_mat, tbm= dtp(dist_mat)\n",
    "# print(cost_mat[n - 1, m - 1])\n",
    "# print(cost_mat[n - 1, m - 1]/(n + m))\n",
    "\n",
    "# plt.figure(figsize=(6, 4))\n",
    "# plt.subplot(121)\n",
    "# plt.title(\"Distance matrix\")\n",
    "# plt.imshow(dist_mat, cmap=plt.cm.binary, interpolation=\"nearest\", origin=\"lower\")\n",
    "# plt.subplot(122)\n",
    "# plt.title(\"Cost matrix\")\n",
    "# plt.imshow(cost_mat, cmap=plt.cm.binary, interpolation=\"nearest\", origin=\"lower\")\n",
    "# x_path, y_path = zip(*path)\n",
    "# plt.plot(y_path, x_path);"
   ]
  },
  {
   "cell_type": "code",
   "execution_count": 54,
   "id": "a2fc609e",
   "metadata": {},
   "outputs": [
    {
     "data": {
      "text/plain": [
       "[(0, 0),\n",
       " (1, 1),\n",
       " (1, 2),\n",
       " (1, 3),\n",
       " (1, 4),\n",
       " (1, 5),\n",
       " (1, 6),\n",
       " (1, 7),\n",
       " (1, 8),\n",
       " (1, 9),\n",
       " (1, 10),\n",
       " (1, 11),\n",
       " (1, 12),\n",
       " (1, 13),\n",
       " (1, 14),\n",
       " (1, 15),\n",
       " (1, 16),\n",
       " (1, 17),\n",
       " (1, 18),\n",
       " (1, 19),\n",
       " (1, 20),\n",
       " (1, 21),\n",
       " (1, 22),\n",
       " (1, 23),\n",
       " (1, 24),\n",
       " (1, 25),\n",
       " (1, 26),\n",
       " (1, 27),\n",
       " (1, 28),\n",
       " (1, 29),\n",
       " (2, 30),\n",
       " (3, 31),\n",
       " (4, 32),\n",
       " (5, 33),\n",
       " (6, 34),\n",
       " (7, 35),\n",
       " (7, 36),\n",
       " (7, 37),\n",
       " (7, 38),\n",
       " (7, 39),\n",
       " (7, 40),\n",
       " (7, 41),\n",
       " (7, 42),\n",
       " (7, 43),\n",
       " (7, 44),\n",
       " (7, 45),\n",
       " (7, 46),\n",
       " (7, 47),\n",
       " (7, 48),\n",
       " (7, 49)]"
      ]
     },
     "execution_count": 54,
     "metadata": {},
     "output_type": "execute_result"
    }
   ],
   "source": [
    "path[:50]\n"
   ]
  },
  {
   "cell_type": "code",
   "execution_count": 55,
   "id": "48486301",
   "metadata": {},
   "outputs": [],
   "source": [
    "def save_video(vid_path, name_output):\n",
    "    vid = cv2.VideoCapture(vid_path)\n",
    "    frame_height = int(vid.get(4))\n",
    "    frame_width = int(vid.get(3))\n",
    "    frame_size = (frame_width, frame_height)\n",
    "    fps = 20.0\n",
    "    fourcc = cv2.VideoWriter_fourcc(*'mp4v')\n",
    "    output = cv2.VideoWriter(name_output, fourcc, fps, frame_size)\n",
    "    return output"
   ]
  },
  {
   "cell_type": "code",
   "execution_count": 56,
   "id": "2b2f5d32",
   "metadata": {},
   "outputs": [],
   "source": [
    "cap1 = cv2.VideoCapture(\"TestData/test6/Dumbell_headt.mp4\")\n",
    "cap2 = cv2.VideoCapture(\"TestData/test6/Dumbell_headl.mp4\")\n",
    "output1 = save_video(\"TestData/test6/Dumbell_headt.mp4\", 'OutputData/optest6/dbt.mp4')\n",
    "output2 = save_video(\"TestData/test6/Dumbell_headl.mp4\", 'OutputData/optest6/dbl.mp4')\n",
    "stop = 0\n",
    "while cap1.isOpened() or cap2.isOpened():\n",
    "    stop += 1\n",
    "    if stop == 2:\n",
    "        break\n",
    "    for i in path:\n",
    "        cap1.set(1,i[0])\n",
    "        cap2.set(1, i[1])  # Where frame_no is the frame you want\n",
    "        okay1  , frame1 = cap1.read()\n",
    "        okay2 , frame2 = cap2.read()\n",
    "        \n",
    "        if okay1:\n",
    "            #hsv1 = cv2.cvtColor(frame1 , cv2.COLOR_BGR2HSV)\n",
    "            cv2.imshow('trainer' , frame1)\n",
    "            \n",
    "            output1.write(frame1)\n",
    " \n",
    "        if okay2:\n",
    "            #hsv2 = cv2.cvtColor(frame2 , cv2.COLOR_BGR2HSV)\n",
    "            cv2.imshow('user' , frame2)\n",
    "            \n",
    "            output2.write(frame2)\n",
    "\n",
    "        if not okay1 or not okay2:\n",
    "            print('Cant read the video , Exit!')\n",
    "            break\n",
    "\n",
    "        k = cv2.waitKey(20)\n",
    "        if k == ord('q'):\n",
    "            break \n",
    "        \n",
    "        #cv2.waitKey(1)\n",
    "    # if cv2.waitKey(1) and 0xFF == ord('q'):\n",
    "    #     break\n",
    "    cv2.waitKey(0)\n",
    "cap1.release()\n",
    "cap2.release()\n",
    "output1.release()\n",
    "output2.release()\n",
    "cv2.destroyAllWindows()"
   ]
  }
 ],
 "metadata": {
  "kernelspec": {
   "display_name": "Python 3 (ipykernel)",
   "language": "python",
   "name": "python3"
  },
  "language_info": {
   "codemirror_mode": {
    "name": "ipython",
    "version": 3
   },
   "file_extension": ".py",
   "mimetype": "text/x-python",
   "name": "python",
   "nbconvert_exporter": "python",
   "pygments_lexer": "ipython3",
   "version": "3.11.4"
  }
 },
 "nbformat": 4,
 "nbformat_minor": 5
}
