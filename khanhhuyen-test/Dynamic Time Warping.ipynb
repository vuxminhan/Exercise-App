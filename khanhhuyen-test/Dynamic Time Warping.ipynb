{
 "cells": [
  {
   "cell_type": "code",
   "execution_count": 2,
   "id": "ffca4859",
   "metadata": {},
   "outputs": [],
   "source": [
    "from matplotlib.patches import ConnectionPatch\n",
    "import matplotlib.pyplot as plt\n",
    "import numpy as np\n",
    "#import scipy.spatial.distance as dist\n",
    "import mediapipe as mp\n",
    "import cv2\n",
    "mp_drawing = mp.solutions.drawing_utils\n",
    "mp_pose = mp.solutions.pose"
   ]
  },
  {
   "cell_type": "code",
   "execution_count": 3,
   "id": "d20766cf",
   "metadata": {},
   "outputs": [],
   "source": [
    "def dtp(dist_mat):\n",
    "    N, M = dist_mat.shape\n",
    "    cost_mat = np.zeros((N + 1, M + 1))\n",
    "    for i in range(1,N+1):\n",
    "        cost_mat[i, 0]  = np.inf\n",
    "    for j in range(1, M+1):\n",
    "        cost_mat[0, j] = np.inf\n",
    "    traceback_mat = np.zeros((N,M))\n",
    "    for i in range(N):\n",
    "        for j in range(M):\n",
    "            min_list = [cost_mat[i, j], # match = 0\n",
    "                        cost_mat[i, j+1],   #insert = 1\n",
    "                        cost_mat[i+1, j]]   # deletion = 2\n",
    "            index_min = np.argmin(min_list)\n",
    "            cost_mat[i+1,j+1] = dist_mat[i, j] + min_list[index_min]\n",
    "            traceback_mat[i,j] = index_min \n",
    "    i = N-1\n",
    "    j = M -1\n",
    "    path = [(i,j)]\n",
    "    while i > 0 or j > 0:\n",
    "        tb_type = traceback_mat[i,j]\n",
    "        if tb_type == 0: # đi chéo\n",
    "            i = i-1\n",
    "            j = j-1\n",
    "        elif tb_type == 1: # đi xuống\n",
    "            i = i - 1\n",
    "        elif tb_type == 2: # đi ngang\n",
    "            j = j - 1\n",
    "        path.append((i,j))\n",
    "    cost_mat = cost_mat[1:, 1:]\n",
    "    return path[::-1], cost_mat,traceback_mat\n"
   ]
  },
  {
   "cell_type": "code",
   "execution_count": 4,
   "id": "a3868b91",
   "metadata": {},
   "outputs": [],
   "source": [
    "def distance_matrix(mat1, mat2):\n",
    "    N = mat1.shape[0]\n",
    "    M = mat2.shape[0]\n",
    "    dist_mat = np.zeros((N,M))\n",
    "    for i in range(N):\n",
    "        for j in range(M):\n",
    "            dist_mat[i, j] = np.linalg.norm(mat1[i, :] - mat2[j,:] )\n",
    "    return dist_mat\n",
    "    "
   ]
  },
  {
   "cell_type": "code",
   "execution_count": 5,
   "id": "10b168d5",
   "metadata": {},
   "outputs": [],
   "source": [
    "def calculate_angle(a,b,c):\n",
    "    a, b, c = np.array(a), np.array(b),  np.array(c)\n",
    "\n",
    "    radians = np.arctan2(c[1]- b[1], c[0]-b[0]) - np.arctan2(a[1] - b[1], a[0] - b[0])\n",
    "    angle = np.abs(radians * 180/np.pi)\n",
    "    if angle > 180:\n",
    "        angle = 360 - 180\n",
    "    return angle"
   ]
  },
  {
   "cell_type": "code",
   "execution_count": 10,
   "id": "ab8756c7",
   "metadata": {},
   "outputs": [],
   "source": [
    "def extract_vid(vid_path):\n",
    "    cap = cv2.VideoCapture(vid_path)\n",
    "    N = cap.get(cv2.CAP_PROP_FRAME_COUNT)\n",
    "    matrix = []\n",
    "    count = 0\n",
    "    with mp_pose.Pose(min_detection_confidence = 0.5, min_tracking_confidence = 0.5) as pose:\n",
    "        while(cap.isOpened()):\n",
    "            try:\n",
    "                ret, frame = cap.read()\n",
    "                count += 1\n",
    "            #Change from BGR to RGB\n",
    "                img = cv2.cvtColor(frame, cv2.COLOR_BGR2RGB)\n",
    "        \n",
    "                img.flags.writeable = False\n",
    "\n",
    "                #Make detection\n",
    "                result = pose.process(img)\n",
    "\n",
    "                # Back the original color channels\n",
    "                img.flags.writeable = True\n",
    "                img = cv2.cvtColor(img, cv2.COLOR_RGB2BGR)\n",
    "\n",
    "                #Extract landmarks \n",
    "                try:\n",
    "                    landmarks = result.pose_landmarks.landmark\n",
    "                    #print(landmarks)\n",
    "                except:\n",
    "                    pass\n",
    "                # Landmarks: là 1 list chứa tọa độ 33 điểm trên cơ thể\n",
    "                theta = []\n",
    "                for i in range(33):\n",
    "                    for j in range(i+1, 33):\n",
    "                        for k in range(j+1,33): \n",
    "                            a = [landmarks[i].x, landmarks[i].y]\n",
    "                            b = [landmarks[j].x, landmarks[j].y]\n",
    "                            c = [landmarks[k].x, landmarks[k].y]\n",
    "                            angle = calculate_angle(a, b, c)\n",
    "                            theta.append(angle)\n",
    "                matrix.append(theta)\n",
    "\n",
    "            except:\n",
    "                pass\n",
    "            if count == 300:\n",
    "                break\n",
    "        \n",
    "        return np.array(matrix), N\n",
    "\n"
   ]
  },
  {
   "cell_type": "code",
   "execution_count": 9,
   "id": "46ecfe2c",
   "metadata": {},
   "outputs": [
    {
     "data": {
      "text/plain": [
       "(200, 5456)"
      ]
     },
     "execution_count": 9,
     "metadata": {},
     "output_type": "execute_result"
    }
   ],
   "source": [
    "mat1,n = extract_vid(\"Sources/viddtw1.mp4\")\n",
    "mat1.shape"
   ]
  },
  {
   "cell_type": "code",
   "execution_count": 11,
   "id": "464c8e4a",
   "metadata": {},
   "outputs": [
    {
     "data": {
      "text/plain": [
       "(300, 5456)"
      ]
     },
     "execution_count": 11,
     "metadata": {},
     "output_type": "execute_result"
    }
   ],
   "source": [
    "mat2, m= extract_vid(\"Sources/viddtw2.mp4\")\n",
    "mat2.shape"
   ]
  },
  {
   "cell_type": "code",
   "execution_count": 12,
   "id": "5216bf47",
   "metadata": {},
   "outputs": [
    {
     "data": {
      "text/plain": [
       "array([[3730.84263289, 3696.89236445, 3764.37874079, ..., 3276.28175709,\n",
       "        3280.05186328, 3278.52130387],\n",
       "       [3758.68204255, 3721.1284795 , 3786.36987434, ..., 3287.92006129,\n",
       "        3289.61833345, 3286.89990448],\n",
       "       [3876.00319539, 3841.10443918, 3904.50177387, ..., 3084.42644337,\n",
       "        3088.75336725, 3108.6453415 ],\n",
       "       ...,\n",
       "       [3785.1521674 , 3741.47355262, 3774.35738571, ..., 3486.0973287 ,\n",
       "        3501.63871419, 3530.70489407],\n",
       "       [3871.42604766, 3830.00056284, 3868.19778997, ..., 3556.87608192,\n",
       "        3572.49321789, 3603.2331145 ],\n",
       "       [3857.39999583, 3813.32468099, 3854.76665943, ..., 3424.09288271,\n",
       "        3439.42636488, 3465.14516504]])"
      ]
     },
     "execution_count": 12,
     "metadata": {},
     "output_type": "execute_result"
    }
   ],
   "source": [
    "dist_mat = distance_matrix(mat1, mat2)\n",
    "dist_mat"
   ]
  },
  {
   "cell_type": "code",
   "execution_count": 13,
   "id": "76db6a3b",
   "metadata": {},
   "outputs": [
    {
     "data": {
      "text/plain": [
       "(200, 300)"
      ]
     },
     "execution_count": 13,
     "metadata": {},
     "output_type": "execute_result"
    }
   ],
   "source": [
    "dist_mat.shape"
   ]
  },
  {
   "cell_type": "code",
   "execution_count": 14,
   "id": "1100c6b1",
   "metadata": {},
   "outputs": [
    {
     "data": {
      "text/plain": [
       "3696.8923644466895"
      ]
     },
     "execution_count": 14,
     "metadata": {},
     "output_type": "execute_result"
    }
   ],
   "source": [
    "dist_mat[0,1]"
   ]
  },
  {
   "cell_type": "code",
   "execution_count": 15,
   "id": "bcb1fad6",
   "metadata": {},
   "outputs": [],
   "source": [
    "path, cost_mat, tbm= dtp(dist_mat)\n",
    "# print(cost_mat[n - 1, m - 1])\n",
    "# print(cost_mat[n - 1, m - 1]/(n + m))\n",
    "\n",
    "# plt.figure(figsize=(6, 4))\n",
    "# plt.subplot(121)\n",
    "# plt.title(\"Distance matrix\")\n",
    "# plt.imshow(dist_mat, cmap=plt.cm.binary, interpolation=\"nearest\", origin=\"lower\")\n",
    "# plt.subplot(122)\n",
    "# plt.title(\"Cost matrix\")\n",
    "# plt.imshow(cost_mat, cmap=plt.cm.binary, interpolation=\"nearest\", origin=\"lower\")\n",
    "# x_path, y_path = zip(*path)\n",
    "# plt.plot(y_path, x_path);"
   ]
  },
  {
   "cell_type": "code",
   "execution_count": 16,
   "id": "a2fc609e",
   "metadata": {},
   "outputs": [
    {
     "data": {
      "text/plain": [
       "[(120, 200),\n",
       " (121, 201),\n",
       " (122, 202),\n",
       " (123, 203),\n",
       " (124, 204),\n",
       " (125, 205),\n",
       " (126, 206),\n",
       " (127, 207),\n",
       " (128, 208),\n",
       " (129, 209),\n",
       " (130, 210),\n",
       " (131, 211),\n",
       " (132, 212),\n",
       " (133, 213),\n",
       " (134, 214),\n",
       " (135, 215),\n",
       " (136, 216),\n",
       " (137, 217),\n",
       " (138, 218),\n",
       " (139, 219),\n",
       " (140, 220),\n",
       " (141, 221),\n",
       " (142, 222),\n",
       " (143, 223),\n",
       " (144, 224),\n",
       " (145, 225),\n",
       " (146, 226),\n",
       " (147, 227),\n",
       " (148, 228),\n",
       " (149, 229),\n",
       " (150, 230),\n",
       " (151, 231),\n",
       " (152, 232),\n",
       " (153, 233),\n",
       " (154, 234),\n",
       " (155, 235),\n",
       " (156, 236),\n",
       " (157, 237),\n",
       " (158, 238),\n",
       " (159, 239),\n",
       " (160, 240),\n",
       " (161, 241),\n",
       " (162, 242),\n",
       " (163, 243),\n",
       " (164, 244),\n",
       " (165, 245),\n",
       " (166, 246),\n",
       " (167, 247),\n",
       " (168, 248),\n",
       " (169, 249),\n",
       " (170, 250),\n",
       " (171, 251),\n",
       " (172, 252),\n",
       " (172, 253),\n",
       " (172, 254),\n",
       " (173, 255),\n",
       " (173, 256),\n",
       " (173, 257),\n",
       " (173, 258),\n",
       " (173, 259),\n",
       " (173, 260),\n",
       " (173, 261),\n",
       " (173, 262),\n",
       " (173, 263),\n",
       " (173, 264),\n",
       " (173, 265),\n",
       " (173, 266),\n",
       " (173, 267),\n",
       " (173, 268),\n",
       " (173, 269),\n",
       " (173, 270),\n",
       " (173, 271),\n",
       " (173, 272),\n",
       " (173, 273),\n",
       " (174, 274),\n",
       " (175, 275),\n",
       " (176, 276),\n",
       " (177, 277),\n",
       " (178, 278),\n",
       " (179, 279),\n",
       " (180, 280),\n",
       " (181, 281),\n",
       " (182, 282),\n",
       " (183, 283),\n",
       " (184, 284),\n",
       " (185, 285),\n",
       " (186, 286),\n",
       " (187, 287),\n",
       " (188, 288),\n",
       " (189, 289),\n",
       " (190, 290),\n",
       " (191, 291),\n",
       " (192, 292),\n",
       " (193, 293),\n",
       " (194, 294),\n",
       " (195, 295),\n",
       " (196, 296),\n",
       " (197, 297),\n",
       " (198, 298),\n",
       " (199, 299)]"
      ]
     },
     "execution_count": 16,
     "metadata": {},
     "output_type": "execute_result"
    }
   ],
   "source": [
    "path[-100:]"
   ]
  },
  {
   "cell_type": "code",
   "execution_count": 14,
   "id": "2b2f5d32",
   "metadata": {},
   "outputs": [],
   "source": [
    "cap1 = cv2.VideoCapture(\"Sources/viddtw1.mp4\")\n",
    "cap2 = cv2.VideoCapture('Sources/viddtw2.mp4')\n",
    "\n",
    "while cap1.isOpened() or cap2.isOpened():\n",
    "    for i in path:\n",
    "        cap1.set(1,i[0])\n",
    "        cap2.set(1, i[1])  # Where frame_no is the frame you want\n",
    "        okay1  , frame1 = cap1.read()\n",
    "        okay2 , frame2 = cap2.read()\n",
    "\n",
    "        if okay1:\n",
    "            #hsv1 = cv2.cvtColor(frame1 , cv2.COLOR_BGR2HSV)\n",
    "            cv2.imshow('trainer' , frame1)\n",
    "\n",
    "        if okay2:\n",
    "            #hsv2 = cv2.cvtColor(frame2 , cv2.COLOR_BGR2HSV)\n",
    "            cv2.imshow('user' , frame2)\n",
    "\n",
    "        if not okay1 or not okay2:\n",
    "            print('Cant read the video , Exit!')\n",
    "            break\n",
    "\n",
    "        if cv2.waitKey(20) & 0xFF == ord('q'):\n",
    "            break\n",
    "    \n",
    "    if cv2.waitKey(20) & 0xFF == ord('q'):\n",
    "        break \n",
    "\n",
    "\n",
    "cap1.release()\n",
    "cap2.release()\n",
    "cv2.destroyAllWindows()"
   ]
  }
 ],
 "metadata": {
  "kernelspec": {
   "display_name": "Python 3 (ipykernel)",
   "language": "python",
   "name": "python3"
  },
  "language_info": {
   "codemirror_mode": {
    "name": "ipython",
    "version": 3
   },
   "file_extension": ".py",
   "mimetype": "text/x-python",
   "name": "python",
   "nbconvert_exporter": "python",
   "pygments_lexer": "ipython3",
   "version": "3.11.4"
  }
 },
 "nbformat": 4,
 "nbformat_minor": 5
}
