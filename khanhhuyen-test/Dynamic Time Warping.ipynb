{
 "cells": [
  {
   "cell_type": "code",
   "execution_count": 3,
   "id": "ffca4859",
   "metadata": {},
   "outputs": [],
   "source": [
    "from matplotlib.patches import ConnectionPatch\n",
    "import matplotlib.pyplot as plt\n",
    "import numpy as np\n",
    "#import scipy.spatial.distance as dist\n",
    "import mediapipe as mp\n",
    "import cv2\n",
    "mp_drawing = mp.solutions.drawing_utils\n",
    "mp_pose = mp.solutions.pose"
   ]
  },
  {
   "cell_type": "code",
   "execution_count": 5,
   "id": "d20766cf",
   "metadata": {},
   "outputs": [],
   "source": [
    "def dtp(dist_mat):\n",
    "    N, M = dist_mat.shape\n",
    "    cost_mat = np.zeros((N + 1, M + 1))\n",
    "    for i in range(1,N+1):\n",
    "        cost_mat[i, 0]  = np.inf\n",
    "    for j in range(1, M+1):\n",
    "        cost_mat[0, j] = np.inf\n",
    "    traceback_mat = np.zeros((N,M))\n",
    "    for i in range(1,N+1):\n",
    "        for j in range(1,M+1):\n",
    "            min_list = [cost_mat[i-1, j-1], # match = 0\n",
    "                        cost_mat[i-1, j],   #insert = 1\n",
    "                        cost_mat[i, j-1]]   # deletion = 2\n",
    "            index_min = np.argmin(min_list)\n",
    "            cost_mat[i,j] = dist_mat[i -1, j -1] + cost_mat[index_min]\n",
    "            traceback_mat[i - 1,j - 1] = index_min \n",
    "    i = N-1\n",
    "    j = M -1\n",
    "    path = [(i,j)]\n",
    "    while i > 0 or j > 0:\n",
    "        tb_type = traceback[i,j]\n",
    "        if tb_type == 0: # đi chéo\n",
    "            i = i-1\n",
    "            j = j-1\n",
    "        elif tb_type == 1: # đi xuống\n",
    "            i = i - 1\n",
    "        elif tb_type == 2: # đi ngang\n",
    "            j = j - 1\n",
    "        path.append((i,j))\n",
    "    cost_mat = cost_mat[1:, 1:]\n",
    "    return path[::-1], cost_mat\n"
   ]
  },
  {
   "cell_type": "code",
   "execution_count": 6,
   "id": "a3868b91",
   "metadata": {},
   "outputs": [],
   "source": [
    "def distance_matrix(mat1, mat2):\n",
    "    N = mat1.shape[1]\n",
    "    M = mat2.shape[1]\n",
    "    dist_mat = np.zeros((N,M))\n",
    "    for i in range(N):\n",
    "        for j in range(M):\n",
    "            dist_mat[i, j] = np.linalg.norm(mat1[:, i] - mat2[:,j] )\n",
    "    return dist_mat\n",
    "    "
   ]
  },
  {
   "cell_type": "code",
   "execution_count": 7,
   "id": "10b168d5",
   "metadata": {},
   "outputs": [],
   "source": [
    "def calculate_angle(a,b,c):\n",
    "    a, b, c = np.array(a), np.array(b),  np.array(c)\n",
    "\n",
    "    radians = np.arctan2(c[1]- b[1], c[0]-b[0]) - np.arctan2(a[1] - b[1], a[0] - b[0])\n",
    "    angle = np.abs(radians * 180/np.pi)\n",
    "    if angle > 180:\n",
    "        angle = 360 - 180\n",
    "    return angle"
   ]
  },
  {
   "cell_type": "code",
   "execution_count": 8,
   "id": "ab8756c7",
   "metadata": {},
   "outputs": [],
   "source": [
    "def extract_vid(vid_path):\n",
    "    cap = cv2.VideoCapture(vid_path)\n",
    "    N = cap.get(cv2.CAP_PROP_FRAME_COUNT)\n",
    "    matrix = []\n",
    "    count = 0\n",
    "    with mp_pose.Pose(min_detection_confidence = 0.5, min_tracking_confidence = 0.5) as pose:\n",
    "        while(cap.isOpened()):\n",
    "            try:\n",
    "                ret, frame = cap.read()\n",
    "                count += 1\n",
    "            #Change from BGR to RGB\n",
    "                img = cv2.cvtColor(frame, cv2.COLOR_BGR2RGB)\n",
    "        \n",
    "                img.flags.writeable = False\n",
    "\n",
    "                #Make detection\n",
    "                result = pose.process(img)\n",
    "\n",
    "                # Back the original color channels\n",
    "                img.flags.writeable = True\n",
    "                img = cv2.cvtColor(img, cv2.COLOR_RGB2BGR)\n",
    "\n",
    "                #Extract landmarks \n",
    "                try:\n",
    "                    landmarks = result.pose_landmarks.landmark\n",
    "                    #print(landmarks)\n",
    "                except:\n",
    "                    pass\n",
    "                # Landmarks: là 1 list chứa tọa độ 33 điểm trên cơ thể\n",
    "                theta = []\n",
    "                for i in range(3):\n",
    "                    for j in range(i+1, 3):\n",
    "                        for k in range(j+1,3): \n",
    "                            a = [landmarks[i].x, landmarks[i].y]\n",
    "                            b = [landmarks[j].x, landmarks[j].y]\n",
    "                            c = [landmarks[k].x, landmarks[k].y]\n",
    "                            angle = calculate_angle(a, b, c)\n",
    "                            theta.append(angle)\n",
    "                matrix.append(theta)\n",
    "\n",
    "            except:\n",
    "                pass\n",
    "            if count == 50:\n",
    "                break\n",
    "        \n",
    "        return np.array(matrix)\n",
    "\n"
   ]
  },
  {
   "cell_type": "code",
   "execution_count": 9,
   "id": "46ecfe2c",
   "metadata": {},
   "outputs": [
    {
     "data": {
      "text/plain": [
       "array([[123.64335107],\n",
       "       [132.96165988],\n",
       "       [140.23006318],\n",
       "       [143.29728226],\n",
       "       [146.99375164],\n",
       "       [148.23253034],\n",
       "       [145.18750446],\n",
       "       [145.19647549],\n",
       "       [145.46484736],\n",
       "       [145.8608023 ],\n",
       "       [144.94529162],\n",
       "       [149.2129451 ],\n",
       "       [149.08081394],\n",
       "       [147.8144634 ],\n",
       "       [145.68996666],\n",
       "       [145.84808602],\n",
       "       [147.30161018],\n",
       "       [149.75398165],\n",
       "       [151.69473336],\n",
       "       [153.71906313],\n",
       "       [147.8013528 ],\n",
       "       [147.79114321],\n",
       "       [147.53394912],\n",
       "       [146.22250648],\n",
       "       [147.76496185],\n",
       "       [146.7680185 ],\n",
       "       [146.72337288],\n",
       "       [147.26112316],\n",
       "       [147.68861427],\n",
       "       [147.24736224],\n",
       "       [145.79204956],\n",
       "       [145.73483983],\n",
       "       [145.20933763],\n",
       "       [145.3855727 ],\n",
       "       [144.69296743],\n",
       "       [141.05478233],\n",
       "       [136.64020843],\n",
       "       [113.60027347],\n",
       "       [106.25397317],\n",
       "       [104.39915603],\n",
       "       [101.79139021],\n",
       "       [106.29864134],\n",
       "       [112.59563085],\n",
       "       [117.40942737],\n",
       "       [120.54873979],\n",
       "       [116.27469074],\n",
       "       [115.19155576],\n",
       "       [116.55555585],\n",
       "       [120.79055514],\n",
       "       [115.32035181]])"
      ]
     },
     "execution_count": 9,
     "metadata": {},
     "output_type": "execute_result"
    }
   ],
   "source": [
    "mat1 = extract_vid(\"Sources/dtwvid1.mp4\")\n",
    "mat1"
   ]
  },
  {
   "cell_type": "code",
   "execution_count": null,
   "id": "464c8e4a",
   "metadata": {},
   "outputs": [
    {
     "ename": "error",
     "evalue": "OpenCV(4.8.0) D:\\a\\opencv-python\\opencv-python\\opencv\\modules\\imgproc\\src\\color.cpp:182: error: (-215:Assertion failed) !_src.empty() in function 'cv::cvtColor'\n",
     "output_type": "error",
     "traceback": [
      "\u001b[1;31m---------------------------------------------------------------------------\u001b[0m",
      "\u001b[1;31merror\u001b[0m                                     Traceback (most recent call last)",
      "Cell \u001b[1;32mIn[30], line 1\u001b[0m\n\u001b[1;32m----> 1\u001b[0m mat2 \u001b[39m=\u001b[39m extract_vid(\u001b[39m\"\u001b[39;49m\u001b[39mSources/dtw_vid2.mp4\u001b[39;49m\u001b[39m\"\u001b[39;49m)\n\u001b[0;32m      2\u001b[0m mat2\n",
      "Cell \u001b[1;32mIn[28], line 10\u001b[0m, in \u001b[0;36mextract_vid\u001b[1;34m(vid_path)\u001b[0m\n\u001b[0;32m      8\u001b[0m     ret, frame \u001b[39m=\u001b[39m cap\u001b[39m.\u001b[39mread()\n\u001b[0;32m      9\u001b[0m \u001b[39m#     # Change from BGR to RGB\u001b[39;00m\n\u001b[1;32m---> 10\u001b[0m     img \u001b[39m=\u001b[39m cv2\u001b[39m.\u001b[39;49mcvtColor(frame, cv2\u001b[39m.\u001b[39;49mCOLOR_BGR2RGB)\n\u001b[0;32m     11\u001b[0m     cv2\u001b[39m.\u001b[39mimshow(\u001b[39m'\u001b[39m\u001b[39mframe\u001b[39m\u001b[39m'\u001b[39m,img)\n\u001b[0;32m     12\u001b[0m     \u001b[39mif\u001b[39;00m cv2\u001b[39m.\u001b[39mwaitKey(\u001b[39m1\u001b[39m) \u001b[39m&\u001b[39m \u001b[39m0xFF\u001b[39m \u001b[39m==\u001b[39m \u001b[39mord\u001b[39m(\u001b[39m'\u001b[39m\u001b[39mq\u001b[39m\u001b[39m'\u001b[39m):\n",
      "\u001b[1;31merror\u001b[0m: OpenCV(4.8.0) D:\\a\\opencv-python\\opencv-python\\opencv\\modules\\imgproc\\src\\color.cpp:182: error: (-215:Assertion failed) !_src.empty() in function 'cv::cvtColor'\n"
     ]
    },
    {
     "ename": "",
     "evalue": "",
     "output_type": "error",
     "traceback": [
      "\u001b[1;31mThe Kernel crashed while executing code in the the current cell or a previous cell. Please review the code in the cell(s) to identify a possible cause of the failure. Click <a href='https://aka.ms/vscodeJupyterKernelCrash'>here</a> for more info. View Jupyter <a href='command:jupyter.viewOutput'>log</a> for further details."
     ]
    }
   ],
   "source": [
    "mat2 = extract_vid(\"Sources/dtw vid2.mp4\")\n",
    "mat2"
   ]
  },
  {
   "cell_type": "code",
   "execution_count": null,
   "id": "5216bf47",
   "metadata": {},
   "outputs": [],
   "source": []
  }
 ],
 "metadata": {
  "kernelspec": {
   "display_name": "Python 3 (ipykernel)",
   "language": "python",
   "name": "python3"
  },
  "language_info": {
   "codemirror_mode": {
    "name": "ipython",
    "version": 3
   },
   "file_extension": ".py",
   "mimetype": "text/x-python",
   "name": "python",
   "nbconvert_exporter": "python",
   "pygments_lexer": "ipython3",
   "version": "3.11.4"
  }
 },
 "nbformat": 4,
 "nbformat_minor": 5
}
